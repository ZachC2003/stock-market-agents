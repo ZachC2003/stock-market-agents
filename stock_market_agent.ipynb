{
 "cells": [
  {
   "cell_type": "code",
   "execution_count": 3,
   "id": "ee72a624-0e45-4052-8405-71ba68f6075e",
   "metadata": {},
   "outputs": [
    {
     "name": "stdout",
     "output_type": "stream",
     "text": [
      "\n",
      "\u001b[1m[\u001b[0m\u001b[34;49mnotice\u001b[0m\u001b[1;39;49m]\u001b[0m\u001b[39;49m A new release of pip is available: \u001b[0m\u001b[31;49m24.2\u001b[0m\u001b[39;49m -> \u001b[0m\u001b[32;49m25.0.1\u001b[0m\n",
      "\u001b[1m[\u001b[0m\u001b[34;49mnotice\u001b[0m\u001b[1;39;49m]\u001b[0m\u001b[39;49m To update, run: \u001b[0m\u001b[32;49mpip install --upgrade pip\u001b[0m\n",
      "\n",
      "\u001b[1m[\u001b[0m\u001b[34;49mnotice\u001b[0m\u001b[1;39;49m]\u001b[0m\u001b[39;49m A new release of pip is available: \u001b[0m\u001b[31;49m24.2\u001b[0m\u001b[39;49m -> \u001b[0m\u001b[32;49m25.0.1\u001b[0m\n",
      "\u001b[1m[\u001b[0m\u001b[34;49mnotice\u001b[0m\u001b[1;39;49m]\u001b[0m\u001b[39;49m To update, run: \u001b[0m\u001b[32;49mpip install --upgrade pip\u001b[0m\n",
      "\n",
      "\u001b[1m[\u001b[0m\u001b[34;49mnotice\u001b[0m\u001b[1;39;49m]\u001b[0m\u001b[39;49m A new release of pip is available: \u001b[0m\u001b[31;49m24.2\u001b[0m\u001b[39;49m -> \u001b[0m\u001b[32;49m25.0.1\u001b[0m\n",
      "\u001b[1m[\u001b[0m\u001b[34;49mnotice\u001b[0m\u001b[1;39;49m]\u001b[0m\u001b[39;49m To update, run: \u001b[0m\u001b[32;49mpip install --upgrade pip\u001b[0m\n",
      "\n",
      "\u001b[1m[\u001b[0m\u001b[34;49mnotice\u001b[0m\u001b[1;39;49m]\u001b[0m\u001b[39;49m A new release of pip is available: \u001b[0m\u001b[31;49m24.2\u001b[0m\u001b[39;49m -> \u001b[0m\u001b[32;49m25.0.1\u001b[0m\n",
      "\u001b[1m[\u001b[0m\u001b[34;49mnotice\u001b[0m\u001b[1;39;49m]\u001b[0m\u001b[39;49m To update, run: \u001b[0m\u001b[32;49mpip install --upgrade pip\u001b[0m\n",
      "\n",
      "\u001b[1m[\u001b[0m\u001b[34;49mnotice\u001b[0m\u001b[1;39;49m]\u001b[0m\u001b[39;49m A new release of pip is available: \u001b[0m\u001b[31;49m24.2\u001b[0m\u001b[39;49m -> \u001b[0m\u001b[32;49m25.0.1\u001b[0m\n",
      "\u001b[1m[\u001b[0m\u001b[34;49mnotice\u001b[0m\u001b[1;39;49m]\u001b[0m\u001b[39;49m To update, run: \u001b[0m\u001b[32;49mpip install --upgrade pip\u001b[0m\n"
     ]
    }
   ],
   "source": [
    "! pip install scipy --quiet\n",
    "! pip install tenacity --quiet\n",
    "! pip install tiktoken --quiet\n",
    "! pip install termcolor --quiet\n",
    "! pip install openai --quiet\n",
    "! pip install tavily-python --quiet"
   ]
  },
  {
   "cell_type": "code",
   "execution_count": 25,
   "id": "d0bf1108-2368-4f34-848d-4db0787fd921",
   "metadata": {},
   "outputs": [],
   "source": [
    "import json\n",
    "from openai import OpenAI\n",
    "from tenacity import retry, wait_random_exponential, stop_after_attempt\n",
    "from termcolor import colored  \n",
    "from dotenv import load_dotenv\n",
    "from tavily import TavilyClient\n",
    "from typing import Literal\n",
    "\n",
    "load_dotenv()\n",
    "GPT_MODEL = \"gpt-4o\"\n",
    "EMBEDDING_MODEL = \"text-embedding-3-small\"\n",
    "client = OpenAI()"
   ]
  },
  {
   "cell_type": "code",
   "execution_count": 26,
   "id": "294e4d83-1af3-497d-b8d2-dac0bf7f4bb2",
   "metadata": {},
   "outputs": [],
   "source": [
    "@retry(wait=wait_random_exponential(multiplier=1, max=40), stop=stop_after_attempt(3))\n",
    "def chat_completion_request(messages, tools=None, tool_choice=None, model=GPT_MODEL):\n",
    "    try:\n",
    "        response = client.chat.completions.create(\n",
    "            model=model,\n",
    "            messages=messages,\n",
    "            tools=tools,\n",
    "            tool_choice=tool_choice,\n",
    "        )\n",
    "        return response\n",
    "    except Exception as e:\n",
    "        print(\"Unable to generate ChatCompletion response\")\n",
    "        print(f\"Exception: {e}\")\n",
    "        return e"
   ]
  },
  {
   "cell_type": "code",
   "execution_count": 27,
   "id": "40acff31-dd7c-4e1f-a04b-0a4261b78ed8",
   "metadata": {},
   "outputs": [],
   "source": [
    "def pretty_print_conversation(messages):\n",
    "    role_to_color = {\n",
    "        \"system\": \"red\",\n",
    "        \"user\": \"green\",\n",
    "        \"assistant\": \"blue\",\n",
    "        \"function\": \"magenta\",\n",
    "    }\n",
    "    \n",
    "    for message in messages:\n",
    "        if message[\"role\"] == \"system\":\n",
    "            print(colored(f\"system: {message['content']}\\n\", role_to_color[message[\"role\"]]))\n",
    "        elif message[\"role\"] == \"user\":\n",
    "            print(colored(f\"user: {message['content']}\\n\", role_to_color[message[\"role\"]]))\n",
    "        elif message[\"role\"] == \"assistant\" and message.get(\"function_call\"):\n",
    "            print(colored(f\"assistant: {message['function_call']}\\n\", role_to_color[message[\"role\"]]))\n",
    "        elif message[\"role\"] == \"assistant\" and not message.get(\"function_call\"):\n",
    "            print(colored(f\"assistant: {message['content']}\\n\", role_to_color[message[\"role\"]]))\n",
    "        elif message[\"role\"] == \"function\":\n",
    "            print(colored(f\"function ({message['name']}): {message['content']}\\n\", role_to_color[message[\"role\"]]))\n"
   ]
  },
  {
   "cell_type": "code",
   "execution_count": 30,
   "id": "f63197ec-d8ea-4519-a5fb-66b065ceeac5",
   "metadata": {},
   "outputs": [],
   "source": [
    "def search_tool(query: str, max_results: int = 5, days: int = 1, topic: Literal['general', 'news'] = 'general'):\n",
    "    \"\"\"This tool provides access to Tavily search that can query internet\"\"\"\n",
    "    search_depth = 'advanced'\n",
    "    TAVILY_API_KEY = os.getenv('TAVILY_API_KEY')\n",
    "\n",
    "    tavily_client = TavilyClient(api_key=TAVILY_API_KEY)\n",
    "    response = tavily_client.search(query, max_results = 1, topic = 'general')\n",
    "    results = response['results']\n",
    "        "
   ]
  },
  {
   "cell_type": "code",
   "execution_count": 32,
   "id": "e2ad8607-f9cf-460a-9bbd-465e37b9f3ae",
   "metadata": {},
   "outputs": [
    {
     "name": "stdout",
     "output_type": "stream",
     "text": [
      "[{'url': 'https://www.instagram.com/potus/?hl=en', 'title': 'President Donald J. Trump (@potus) • Instagram photos and videos', 'content': 'President Donald J. Trump 45th & 47th President of the United States. The Golden Age of America Begins Right Now.', 'score': 0.61196244, 'raw_content': None}]\n"
     ]
    }
   ],
   "source": [
    "search_tool('Who is the president of United States of America')"
   ]
  },
  {
   "cell_type": "code",
   "execution_count": 17,
   "id": "9840203c-6b06-4ce9-8dc1-d4f6a0612569",
   "metadata": {},
   "outputs": [
    {
     "data": {
      "text/plain": [
       "ChatCompletionMessage(content=\"Question: Is Google stock a good buy?\\n\\nQuery 1: What is the current price of Google (Alphabet Inc.) stock?\\n<reasoning>\\nTo determine whether Google stock is a good buy, we need to start with its current market price. This provides context for evaluating value metrics such as price-to-earnings (P/E) ratio, historical price trends, and recent performance.\\n</reasoning>\\n<tools>\\n1. Finance API to access current stock price data\\n2. Stock market application or website (e.g., Yahoo Finance, Google Finance)\\n</tools>\\n\\nQuery 2: What is Google's financial performance and recent earnings report?\\n<reasoning>\\nAnalyzing Google’s recent financial performance, including revenue, profit margins, and earnings per share, will help assess the company's financial health and growth potential. This involves understanding its capacity to generate profit and its performance relative to market expectations.\\n</reasoning>\\n<tools>\\n1. Finance API for retrieving recent earnings reports\\n2. SEC filings access to view detailed financial statements\\n3. Google search for news on Google’s recent quarterly earnings report\\n</tools>\\n\\nQuery 3: What is the current valuation of Google compared to its peers?\\n<reasoning>\\nIt is important to compare Google's valuation to other similar companies in the technology sector. This involves examining valuation metrics like the P/E ratio, market cap, and price-to-sales ratio to understand if Google is over or under-valued compared to peers.\\n</reasoning>\\n<tools>\\n1. Finance API for comparative stock analysis\\n2. Financial websites (e.g., Morningstar, Yahoo Finance) for peer comparison\\n</tools>\\n\\nQuery 4: What are the market trends and overall conditions affecting the technology sector?\\n<reasoning>\\nUnderstanding broader market trends and conditions impacting the technology sector provides insight into external factors that might affect Google's stock performance. This includes interest rates, economic growth, and sector-specific trends or disruptions.\\n</reasoning>\\n<tools>\\n1. Economic calendars for market trend insights\\n2. Google search for recent news on technology sector developments\\n3. Financial news websites for expert analysis on current sector conditions\\n</tools>\\n\\nQuery 5: What are analysts' ratings and future projections for Google stock?\\n<reasoning>\\nAnalysts' ratings and future stock price targets provide an additional perspective on whether Google stock is seen as a good investment. These ratings reflect professional analysis of the company’s future growth prospects and risk assessments.\\n</reasoning>\\n<tools>\\n1. Financial analyst platforms like Bloomberg, FactSet\\n2. Finance API that aggregates analyst ratings and projections\\n3. Investment research websites (e.g., Seeking Alpha, The Motley Fool)\\n</tools>\", refusal=None, role='assistant', audio=None, function_call=None, tool_calls=None)"
      ]
     },
     "execution_count": 17,
     "metadata": {},
     "output_type": "execute_result"
    }
   ],
   "source": [
    "SYSTEM_PROMPT = \"\"\"\n",
    "You are a helpful financial advisor assistant.\n",
    "Respond to user's question by breaking it down into multiple queries that will you provide better context for the question.\n",
    "Reason through each query, and provide a list of tools that will help you provide more context to answer the question.\n",
    "A tool could be access to a function with finance related API endpoints, a google search, access to sec fillings, etc.\n",
    "Your answer should be in the following format:\n",
    "Question: question text\n",
    "Query 1: Query 1 text\n",
    "<reasoning>\n",
    "</reasoning>\n",
    "<tools>\n",
    "1. tool 1\n",
    "2. tool 2\n",
    "...\n",
    "n. tool n\n",
    "</tools>\n",
    "Query 2: Query 2 text\n",
    "<reasoning>\n",
    "</reasoning>\n",
    "<tools>\n",
    "1. tool 1\n",
    "2. tool 2\n",
    "...\n",
    "n. tool n\n",
    "</tools>\n",
    "Query n: Query n text\n",
    "<reasoning>\n",
    "</reasoning>\n",
    "<tools>\n",
    "1. tool 1\n",
    "2. tool 2\n",
    "...\n",
    "n. tool n\n",
    "</tools>\n",
    "\"\"\"\n",
    "messages = []\n",
    "messages.append({\"role\": \"system\", \"content\": SYSTEM_PROMPT})\n",
    "messages.append({\"role\": \"user\", \"content\": \"Is Google stock a good buy?\"})\n",
    "chat_response = chat_completion_request(messages)\n",
    "\n",
    "chat_response.choices[0].message"
   ]
  },
  {
   "cell_type": "markdown",
   "id": "1604c664",
   "metadata": {},
   "source": [
    "For a given query, find out what alpha vantage endpoint provides the information needed to answer the given question."
   ]
  },
  {
   "cell_type": "code",
   "execution_count": 3,
   "id": "919fcb4e",
   "metadata": {},
   "outputs": [],
   "source": [
    "# Fetch the Alpha Vantage API and store it in an embedding database. \n",
    "import chromadb\n",
    "from bs4 import BeautifulSoup\n",
    "import requests"
   ]
  },
  {
   "cell_type": "code",
   "execution_count": 5,
   "id": "5f719bb2",
   "metadata": {},
   "outputs": [],
   "source": [
    "# Fetch documentation\n",
    "url = \"https://www.alphavantage.co/documentation/\"\n",
    "\n",
    "try:\n",
    "    response = requests.get(url, timeout=10)\n",
    "    response.raise_for_status()\n",
    "    html_content = response.text\n",
    "    soup = BeautifulSoup(html_content, \"html.parser\")\n",
    "    sections = soup.find_all(\"h2\")  # Assuming API sections are under h2 tags\n",
    "    \n",
    "    docs = {}\n",
    "    for section in sections:\n",
    "        title = section.get_text(strip=True)\n",
    "        content = []\n",
    "        \n",
    "        for sibling in section.find_next_siblings():\n",
    "            if sibling.name == \"h2\":\n",
    "                break  # Stop when the next section starts\n",
    "            content.append(sibling.get_text(strip=True))\n",
    "        docs[title] = \"\\n\".join(content)    \n",
    "    \n",
    "    with open('alpha_vantage_docs.txt', 'w', encoding='utf-8') as file:\n",
    "        for title, content in docs.items():\n",
    "            file.write(f\"{title}\\n{'-'*len(title)}\\n{content}\\n\\n\")\n",
    "\n",
    "except requests.RequestException as e:\n",
    "    print(f'Error fetching documentation: {e}')\n"
   ]
  },
  {
   "cell_type": "code",
   "execution_count": null,
   "id": "af61fd47",
   "metadata": {},
   "outputs": [],
   "source": [
    "client = chromadb.Client()\n",
    "collection = client.create_collection('alpha_vantage_endpoints')"
   ]
  }
 ],
 "metadata": {
  "kernelspec": {
   "display_name": ".venv",
   "language": "python",
   "name": "python3"
  },
  "language_info": {
   "codemirror_mode": {
    "name": "ipython",
    "version": 3
   },
   "file_extension": ".py",
   "mimetype": "text/x-python",
   "name": "python",
   "nbconvert_exporter": "python",
   "pygments_lexer": "ipython3",
   "version": "3.12.6"
  }
 },
 "nbformat": 4,
 "nbformat_minor": 5
}
